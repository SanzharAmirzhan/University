{
 "cells": [
  {
   "cell_type": "code",
   "execution_count": 1,
   "metadata": {
    "collapsed": true
   },
   "outputs": [],
   "source": [
    "from sklearn.datasets import load_iris\n",
    "import pandas as pd\n",
    "import numpy as np"
   ]
  },
  {
   "cell_type": "code",
   "execution_count": 2,
   "metadata": {
    "collapsed": true
   },
   "outputs": [],
   "source": [
    "X = load_iris().data\n",
    "y = load_iris().target"
   ]
  },
  {
   "cell_type": "code",
   "execution_count": 3,
   "metadata": {
    "collapsed": true
   },
   "outputs": [],
   "source": [
    "someY = []\n",
    "for i in y:\n",
    "    someY.append([i])"
   ]
  },
  {
   "cell_type": "code",
   "execution_count": 4,
   "metadata": {
    "collapsed": true
   },
   "outputs": [],
   "source": [
    "X = np.append(X, someY, axis=1)"
   ]
  },
  {
   "cell_type": "code",
   "execution_count": 5,
   "metadata": {
    "collapsed": true
   },
   "outputs": [],
   "source": [
    "def divideset(rows,column,value):\n",
    "    split_function=None\n",
    "    if isinstance(value,int) or isinstance(value,float):\n",
    "        split_function=lambda row:row[column]>=value\n",
    "    else:\n",
    "        split_function=lambda row:row[column]==value\n",
    "       \n",
    "    set1=[row for row in rows if split_function(row)]\n",
    "    set2=[row for row in rows if not split_function(row)]\n",
    "    return (set1,set2)"
   ]
  },
  {
   "cell_type": "code",
   "execution_count": 6,
   "metadata": {
    "collapsed": false
   },
   "outputs": [],
   "source": [
    "def uniquecounts(rows):\n",
    "    results={}\n",
    "    for row in rows:\n",
    "        r = row[-1]\n",
    "        if r not in results.keys(): \n",
    "            results[r]=0\n",
    "        results[r]+=1\n",
    "    return results"
   ]
  },
  {
   "cell_type": "code",
   "execution_count": 7,
   "metadata": {
    "collapsed": true
   },
   "outputs": [],
   "source": [
    "def entropy(rows):\n",
    "    log2 = lambda x:log(x)/log(2)  \n",
    "    results = uniquecounts(rows)\n",
    "    ent = 0.0\n",
    "    for r in results.keys():\n",
    "        prob = float(results[r]) / len(rows)\n",
    "        ent -= prob * np.log2(prob)\n",
    "    return ent"
   ]
  },
  {
   "cell_type": "code",
   "execution_count": 8,
   "metadata": {
    "collapsed": false
   },
   "outputs": [
    {
     "data": {
      "text/plain": [
       "{0.0: 50, 1.0: 50, 2.0: 50}"
      ]
     },
     "execution_count": 8,
     "metadata": {},
     "output_type": "execute_result"
    }
   ],
   "source": [
    "uniquecounts(X)"
   ]
  },
  {
   "cell_type": "code",
   "execution_count": 9,
   "metadata": {
    "collapsed": false
   },
   "outputs": [
    {
     "data": {
      "text/plain": [
       "1.5849625007211561"
      ]
     },
     "execution_count": 9,
     "metadata": {},
     "output_type": "execute_result"
    }
   ],
   "source": [
    "entropy(X)"
   ]
  },
  {
   "cell_type": "code",
   "execution_count": 10,
   "metadata": {
    "collapsed": true
   },
   "outputs": [],
   "source": [
    "class decisionNode:\n",
    "    def __init__(self, col=-1, value=None, results=None, tb=None, fb=None):\n",
    "        self.col=col\n",
    "        self.value=value\n",
    "        self.results=results\n",
    "        self.tb=tb\n",
    "        self.fb=fb"
   ]
  },
  {
   "cell_type": "code",
   "execution_count": 11,
   "metadata": {
    "collapsed": true
   },
   "outputs": [],
   "source": [
    "def buildTree(rows, scoref=entropy):\n",
    "    if(len(rows) == 0):\n",
    "        return decisionNode()\n",
    "    \n",
    "    curScore = scoref(rows)\n",
    "    bestGain = 0.0\n",
    "    bestCriteria = None\n",
    "    bestSets = None\n",
    "    \n",
    "    columnCnt = len(rows[0]) - 1\n",
    "    for col in range(0, columnCnt):\n",
    "        global columnValues\n",
    "        columnValues = {}\n",
    "        for row in rows:\n",
    "            columnValues[row[col]] = 1\n",
    "        for value in columnValues.keys():\n",
    "            (set1, set2) = divideset(rows, col, value)\n",
    "            \n",
    "            curProb = float(len(set1))/len(rows) \n",
    "            curGain = curScore - curProb * scoref(set1) - (1-curProb) * scoref(set2)\n",
    "            if(curGain > bestGain and len(set1) > 0 and len(set2) > 0):\n",
    "                bestGain = curGain\n",
    "                bestCriteria = (col, value)\n",
    "                bestSets = (set1, set2)\n",
    "    \n",
    "    if(bestGain > 0):\n",
    "        tBranch = buildTree(bestSets[0])\n",
    "        fBranch = buildTree(bestSets[1])\n",
    "        return decisionNode(col=bestCriteria[0], value=bestCriteria[1], \n",
    "                           tb = tBranch, fb = fBranch)\n",
    "    else:\n",
    "        return decisionNode(results=uniquecounts(rows))"
   ]
  },
  {
   "cell_type": "code",
   "execution_count": 12,
   "metadata": {
    "collapsed": false
   },
   "outputs": [],
   "source": [
    "tree = buildTree(X)"
   ]
  },
  {
   "cell_type": "code",
   "execution_count": 13,
   "metadata": {
    "collapsed": true
   },
   "outputs": [],
   "source": [
    "def printtree(tree, indent=''):\n",
    "    if(tree.results != None):\n",
    "        print(str(tree.results))\n",
    "    else:\n",
    "        print(str(tree.col)+':'+str(tree.value)+'? ')\n",
    "        print(indent+'T->', end=\" \")\n",
    "        printtree(tree.tb,indent+'  ')\n",
    "        print(indent+'F->', end=\" \")\n",
    "        printtree(tree.fb,indent+'  ')"
   ]
  },
  {
   "cell_type": "code",
   "execution_count": 14,
   "metadata": {
    "collapsed": false
   },
   "outputs": [
    {
     "name": "stdout",
     "output_type": "stream",
     "text": [
      "2:3.0? \n",
      "T-> 3:1.8? \n",
      "  T-> 2:4.9? \n",
      "    T-> {2.0: 43}\n",
      "    F-> 0:6.0? \n",
      "      T-> {2.0: 2}\n",
      "      F-> {1.0: 1}\n",
      "  F-> 2:5.0? \n",
      "    T-> 3:1.6? \n",
      "      T-> 0:7.2? \n",
      "        T-> {2.0: 1}\n",
      "        F-> {1.0: 2}\n",
      "      F-> {2.0: 3}\n",
      "    F-> 3:1.7? \n",
      "      T-> {2.0: 1}\n",
      "      F-> {1.0: 47}\n",
      "F-> {0.0: 50}\n"
     ]
    }
   ],
   "source": [
    "printtree(tree)"
   ]
  },
  {
   "cell_type": "code",
   "execution_count": 15,
   "metadata": {
    "collapsed": true
   },
   "outputs": [],
   "source": [
    "def classify(observation,tree):\n",
    "    if tree.results!=None:\n",
    "        return tree.results\n",
    "    else:\n",
    "        v=observation[tree.col]\n",
    "        branch=None\n",
    "        if isinstance(v,int) or isinstance(v,float):\n",
    "            if v>=tree.value: \n",
    "                branch=tree.tb\n",
    "            else: \n",
    "                branch=tree.fb\n",
    "        else:\n",
    "            if v==tree.value: branch=tree.tb\n",
    "            else: branch=tree.fb\n",
    "    return classify(observation,branch)"
   ]
  },
  {
   "cell_type": "code",
   "execution_count": 16,
   "metadata": {
    "collapsed": false
   },
   "outputs": [
    {
     "data": {
      "text/plain": [
       "{2.0: 3}"
      ]
     },
     "execution_count": 16,
     "metadata": {},
     "output_type": "execute_result"
    }
   ],
   "source": [
    "classify([5.1, 0, 8, 0], tree)"
   ]
  },
  {
   "cell_type": "code",
   "execution_count": null,
   "metadata": {
    "collapsed": true
   },
   "outputs": [],
   "source": []
  }
 ],
 "metadata": {
  "kernelspec": {
   "display_name": "Python 3",
   "language": "python",
   "name": "python3"
  },
  "language_info": {
   "codemirror_mode": {
    "name": "ipython",
    "version": 3
   },
   "file_extension": ".py",
   "mimetype": "text/x-python",
   "name": "python",
   "nbconvert_exporter": "python",
   "pygments_lexer": "ipython3",
   "version": "3.5.2"
  }
 },
 "nbformat": 4,
 "nbformat_minor": 1
}
