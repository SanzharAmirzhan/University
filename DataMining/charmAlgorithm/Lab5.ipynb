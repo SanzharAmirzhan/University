{
 "cells": [
  {
   "cell_type": "code",
   "execution_count": 1,
   "metadata": {
    "collapsed": true
   },
   "outputs": [],
   "source": [
    "from operator import itemgetter\n",
    "from collections import OrderedDict\n",
    "import pandas as pd\n",
    "import numpy as np"
   ]
  },
  {
   "cell_type": "code",
   "execution_count": 2,
   "metadata": {
    "collapsed": false
   },
   "outputs": [],
   "source": [
    "dataAll = pd.read_csv('testForPython.txt', sep=\" \", header = None)\n",
    "#dataAll = pd.read_csv('mushroom.txt', sep=\" \", header = None)"
   ]
  },
  {
   "cell_type": "code",
   "execution_count": 3,
   "metadata": {
    "collapsed": false
   },
   "outputs": [
    {
     "data": {
      "text/html": [
       "<div>\n",
       "<table border=\"1\" class=\"dataframe\">\n",
       "  <thead>\n",
       "    <tr style=\"text-align: right;\">\n",
       "      <th></th>\n",
       "      <th>0</th>\n",
       "      <th>1</th>\n",
       "      <th>2</th>\n",
       "      <th>3</th>\n",
       "      <th>4</th>\n",
       "    </tr>\n",
       "  </thead>\n",
       "  <tbody>\n",
       "    <tr>\n",
       "      <th>0</th>\n",
       "      <td>A</td>\n",
       "      <td>B</td>\n",
       "      <td>D</td>\n",
       "      <td>E</td>\n",
       "      <td>1</td>\n",
       "    </tr>\n",
       "    <tr>\n",
       "      <th>1</th>\n",
       "      <td>B</td>\n",
       "      <td>C</td>\n",
       "      <td>E</td>\n",
       "      <td>1</td>\n",
       "      <td>1</td>\n",
       "    </tr>\n",
       "    <tr>\n",
       "      <th>2</th>\n",
       "      <td>A</td>\n",
       "      <td>B</td>\n",
       "      <td>D</td>\n",
       "      <td>E</td>\n",
       "      <td>1</td>\n",
       "    </tr>\n",
       "    <tr>\n",
       "      <th>3</th>\n",
       "      <td>A</td>\n",
       "      <td>B</td>\n",
       "      <td>C</td>\n",
       "      <td>E</td>\n",
       "      <td>1</td>\n",
       "    </tr>\n",
       "    <tr>\n",
       "      <th>4</th>\n",
       "      <td>A</td>\n",
       "      <td>B</td>\n",
       "      <td>C</td>\n",
       "      <td>D</td>\n",
       "      <td>E</td>\n",
       "    </tr>\n",
       "    <tr>\n",
       "      <th>5</th>\n",
       "      <td>B</td>\n",
       "      <td>C</td>\n",
       "      <td>D</td>\n",
       "      <td>1</td>\n",
       "      <td>1</td>\n",
       "    </tr>\n",
       "  </tbody>\n",
       "</table>\n",
       "</div>"
      ],
      "text/plain": [
       "   0  1  2  3  4\n",
       "0  A  B  D  E  1\n",
       "1  B  C  E  1  1\n",
       "2  A  B  D  E  1\n",
       "3  A  B  C  E  1\n",
       "4  A  B  C  D  E\n",
       "5  B  C  D  1  1"
      ]
     },
     "execution_count": 3,
     "metadata": {},
     "output_type": "execute_result"
    }
   ],
   "source": [
    "dataAll"
   ]
  },
  {
   "cell_type": "code",
   "execution_count": 4,
   "metadata": {
    "collapsed": false
   },
   "outputs": [],
   "source": [
    "# for test.txt\n",
    "allItemsMap = {}\n",
    "for d, i in dataAll.iterrows():\n",
    "    i.nunique()\n",
    "    for j in i:\n",
    "        if(j != '1'):\n",
    "            if j not in allItemsMap.keys():\n",
    "                allItemsMap[j] = set()\n",
    "            allItemsMap[j] = allItemsMap[j] | {d}\n"
   ]
  },
  {
   "cell_type": "code",
   "execution_count": 5,
   "metadata": {
    "collapsed": false
   },
   "outputs": [],
   "source": [
    "#dataAll = dataAll.ix[:,0:22]"
   ]
  },
  {
   "cell_type": "code",
   "execution_count": 6,
   "metadata": {
    "collapsed": false
   },
   "outputs": [
    {
     "data": {
      "text/plain": [
       "'\\nallItemsMap = {}\\nfor d, i in dataAll.iterrows():\\n    x = i.nunique()\\n    for j in i:\\n        if j not in allItemsMap.keys():\\n            allItemsMap[j] = set()\\n        allItemsMap[j] = allItemsMap[j] | {d}\\n'"
      ]
     },
     "execution_count": 6,
     "metadata": {},
     "output_type": "execute_result"
    }
   ],
   "source": [
    "# mushroom.txt\n",
    "'''\n",
    "allItemsMap = {}\n",
    "for d, i in dataAll.iterrows():\n",
    "    x = i.nunique()\n",
    "    for j in i:\n",
    "        if j not in allItemsMap.keys():\n",
    "            allItemsMap[j] = set()\n",
    "        allItemsMap[j] = allItemsMap[j] | {d}\n",
    "'''"
   ]
  },
  {
   "cell_type": "code",
   "execution_count": 7,
   "metadata": {
    "collapsed": false
   },
   "outputs": [
    {
     "data": {
      "text/plain": [
       "{'A': {0, 2, 3, 4},\n",
       " 'B': {0, 1, 2, 3, 4, 5},\n",
       " 'C': {1, 3, 4, 5},\n",
       " 'D': {0, 2, 4, 5},\n",
       " 'E': {0, 1, 2, 3, 4}}"
      ]
     },
     "execution_count": 7,
     "metadata": {},
     "output_type": "execute_result"
    }
   ],
   "source": [
    "allItemsMap"
   ]
  },
  {
   "cell_type": "code",
   "execution_count": 8,
   "metadata": {
    "collapsed": false
   },
   "outputs": [],
   "source": [
    "tmpArray = []\n",
    "for i in allItemsMap.keys():\n",
    "    if len(allItemsMap[i]) >= 3:\n",
    "        tmpArray.append((set(i), allItemsMap[i]))"
   ]
  },
  {
   "cell_type": "code",
   "execution_count": 9,
   "metadata": {
    "collapsed": false
   },
   "outputs": [],
   "source": [
    "tmpArray.sort(key=lambda t:len(t[1]))"
   ]
  },
  {
   "cell_type": "code",
   "execution_count": 10,
   "metadata": {
    "collapsed": false
   },
   "outputs": [],
   "source": [
    "pVector = tmpArray.copy()"
   ]
  },
  {
   "cell_type": "code",
   "execution_count": 11,
   "metadata": {
    "collapsed": false
   },
   "outputs": [
    {
     "data": {
      "text/plain": [
       "[({'C'}, {1, 3, 4, 5}),\n",
       " ({'A'}, {0, 2, 3, 4}),\n",
       " ({'D'}, {0, 2, 4, 5}),\n",
       " ({'E'}, {0, 1, 2, 3, 4}),\n",
       " ({'B'}, {0, 1, 2, 3, 4, 5})]"
      ]
     },
     "execution_count": 11,
     "metadata": {},
     "output_type": "execute_result"
    }
   ],
   "source": [
    "pVector"
   ]
  },
  {
   "cell_type": "code",
   "execution_count": 46,
   "metadata": {
    "collapsed": false
   },
   "outputs": [],
   "source": [
    "C = []\n",
    "def charm(P, minsup):\n",
    "    P.sort(key = lambda t: len(t[1]))\n",
    "    for i in range(0, len(P)):\n",
    "        Xi,tXi = P[i][0].copy(), P[i][1].copy()\n",
    "        Pi = []\n",
    "        for j in range(i+1, len(P)):\n",
    "            Xj,tXj = P[j][0].copy(), P[j][1].copy()\n",
    "            commonX = (Xi.union(Xj)).copy()\n",
    "            commonT = (tXi.intersection(tXj)).copy()\n",
    "            if(len(commonT) >= minsup):\n",
    "                tmpTXi = tXi.copy()\n",
    "                tmpTXj = tXj.copy()\n",
    "                if(set(tmpTXi) == set(tmpTXj)):\n",
    "                    # replace Xi with Xij in P\n",
    "                    for k in range(0,len(P)):\n",
    "                        if(tmpTXi== P[k][0]):\n",
    "                            P[k][0] = commonX.copy()\n",
    "                    # replace Xi with Xij in Pi\n",
    "                    for k in range(0,len(Pi)):\n",
    "                        if(tmpTXi == Pi[k][0]):\n",
    "                            Pi[k][0] = commonX.copy()\n",
    "                    # remove Xj from P: set - None\n",
    "                    for k in range(0,len(P)):\n",
    "                        if((tmpTXj == P[k][0]) and (tXj == P[k][1])):\n",
    "                            del(P[k])\n",
    "                else:\n",
    "                    if(tmpTXi.issubset(tmpTXj) and not(tmpTXi != tmpTXj)):\n",
    "                        # replace Xi with Xij in P\n",
    "                        for k in range(0,len(P)):\n",
    "                            if(tmpTXi == P[k][0]):\n",
    "                                P[k][0] = commonX.copy()\n",
    "                        # replace Xi with Xij in Pi\n",
    "                        for k in range(0,len(Pi)):\n",
    "                            if(tmpTXi == Pi[k][0]):\n",
    "                                Pi[k][0] = commonX.copy()\n",
    "                    else:\n",
    "                        Pi.append((commonX.copy(), commonT.copy()))\n",
    "                \n",
    "        if(len(Pi) > 0):\n",
    "            charm(Pi.copy(), minsup)\n",
    "        \n",
    "        okBool = True\n",
    "        for fr, sc in C:\n",
    "            if((Xi.issubset(fr))) and (set(tXi) == set(sc)):\n",
    "                okBool = False\n",
    "                break\n",
    "        if(okBool == True):\n",
    "            C.append((Xi.copy(), tXi.copy()))"
   ]
  },
  {
   "cell_type": "code",
   "execution_count": 47,
   "metadata": {
    "collapsed": false
   },
   "outputs": [],
   "source": [
    "charm(pVector.copy(), 3)"
   ]
  },
  {
   "cell_type": "code",
   "execution_count": 48,
   "metadata": {
    "collapsed": false
   },
   "outputs": [
    {
     "data": {
      "text/plain": [
       "[({'B', 'C', 'E'}, {1, 3, 4}),\n",
       " ({'B', 'C'}, {1, 3, 4, 5}),\n",
       " ({'A', 'D', 'E'}, {0, 2, 4}),\n",
       " ({'A', 'B', 'D'}, {0, 2, 4}),\n",
       " ({'A', 'E'}, {0, 2, 3, 4}),\n",
       " ({'A', 'B'}, {0, 2, 3, 4}),\n",
       " ({'B', 'D', 'E'}, {0, 2, 4}),\n",
       " ({'B', 'D'}, {0, 2, 4, 5}),\n",
       " ({'B', 'E'}, {0, 1, 2, 3, 4}),\n",
       " ({'B'}, {0, 1, 2, 3, 4, 5})]"
      ]
     },
     "execution_count": 48,
     "metadata": {},
     "output_type": "execute_result"
    }
   ],
   "source": [
    "C"
   ]
  },
  {
   "cell_type": "code",
   "execution_count": 24,
   "metadata": {
    "collapsed": false
   },
   "outputs": [
    {
     "data": {
      "text/plain": [
       "[({'C'}, {1, 3, 4, 5}),\n",
       " ({'A'}, {0, 2, 3, 4}),\n",
       " ({'D'}, {0, 2, 4, 5}),\n",
       " ({'E'}, {0, 1, 2, 3, 4}),\n",
       " ({'B'}, {0, 1, 2, 3, 4, 5})]"
      ]
     },
     "execution_count": 24,
     "metadata": {},
     "output_type": "execute_result"
    }
   ],
   "source": [
    "pVector"
   ]
  },
  {
   "cell_type": "code",
   "execution_count": 45,
   "metadata": {
    "collapsed": false
   },
   "outputs": [
    {
     "data": {
      "text/plain": [
       "[({'C'}, {1, 3, 4, 5}),\n",
       " ({'A'}, {0, 2, 3, 4}),\n",
       " ({'D'}, {0, 2, 4, 5}),\n",
       " ({'E'}, {0, 1, 2, 3, 4}),\n",
       " ({'B'}, {0, 1, 2, 3, 4, 5})]"
      ]
     },
     "execution_count": 45,
     "metadata": {},
     "output_type": "execute_result"
    }
   ],
   "source": [
    "tmpArray"
   ]
  },
  {
   "cell_type": "code",
   "execution_count": null,
   "metadata": {
    "collapsed": true
   },
   "outputs": [],
   "source": []
  }
 ],
 "metadata": {
  "kernelspec": {
   "display_name": "Python 3",
   "language": "python",
   "name": "python3"
  },
  "language_info": {
   "codemirror_mode": {
    "name": "ipython",
    "version": 3
   },
   "file_extension": ".py",
   "mimetype": "text/x-python",
   "name": "python",
   "nbconvert_exporter": "python",
   "pygments_lexer": "ipython3",
   "version": "3.5.1"
  }
 },
 "nbformat": 4,
 "nbformat_minor": 0
}
